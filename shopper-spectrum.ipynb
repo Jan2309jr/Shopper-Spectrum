{
 "cells": [
  {
   "cell_type": "markdown",
   "id": "a8b53b31",
   "metadata": {
    "papermill": {
     "duration": 0.004532,
     "end_time": "2025-07-27T09:52:39.163119",
     "exception": false,
     "start_time": "2025-07-27T09:52:39.158587",
     "status": "completed"
    },
    "tags": []
   },
   "source": [
    "# **Importing Libraries**"
   ]
  },
  {
   "cell_type": "code",
   "execution_count": 1,
   "id": "2174e8dc",
   "metadata": {
    "_cell_guid": "b1076dfc-b9ad-4769-8c92-a6c4dae69d19",
    "_uuid": "8f2839f25d086af736a60e9eeb907d3b93b6e0e5",
    "execution": {
     "iopub.execute_input": "2025-07-27T09:52:39.172255Z",
     "iopub.status.busy": "2025-07-27T09:52:39.171931Z",
     "iopub.status.idle": "2025-07-27T09:52:42.701759Z",
     "shell.execute_reply": "2025-07-27T09:52:42.701099Z"
    },
    "papermill": {
     "duration": 3.53613,
     "end_time": "2025-07-27T09:52:42.703380",
     "exception": false,
     "start_time": "2025-07-27T09:52:39.167250",
     "status": "completed"
    },
    "tags": []
   },
   "outputs": [],
   "source": [
    "import numpy as np # linear algebra\n",
    "import pandas as pd # data processing, CSV file I/O (e.g. pd.read_csv)\n",
    "import matplotlib.pyplot as plt\n",
    "import seaborn as sb"
   ]
  },
  {
   "cell_type": "markdown",
   "id": "78bdb2b2",
   "metadata": {
    "papermill": {
     "duration": 0.003563,
     "end_time": "2025-07-27T09:52:42.712561",
     "exception": false,
     "start_time": "2025-07-27T09:52:42.708998",
     "status": "completed"
    },
    "tags": []
   },
   "source": [
    "# **Dataset Collection and Understanding**"
   ]
  },
  {
   "cell_type": "markdown",
   "id": "12ad2c91",
   "metadata": {
    "papermill": {
     "duration": 0.003522,
     "end_time": "2025-07-27T09:52:42.719911",
     "exception": false,
     "start_time": "2025-07-27T09:52:42.716389",
     "status": "completed"
    },
    "tags": []
   },
   "source": [
    "## 1. Loading the dataset"
   ]
  },
  {
   "cell_type": "code",
   "execution_count": 2,
   "id": "d1e29f50",
   "metadata": {
    "execution": {
     "iopub.execute_input": "2025-07-27T09:52:42.728557Z",
     "iopub.status.busy": "2025-07-27T09:52:42.728150Z",
     "iopub.status.idle": "2025-07-27T09:52:45.003636Z",
     "shell.execute_reply": "2025-07-27T09:52:45.002779Z"
    },
    "papermill": {
     "duration": 2.28191,
     "end_time": "2025-07-27T09:52:45.005477",
     "exception": false,
     "start_time": "2025-07-27T09:52:42.723567",
     "status": "completed"
    },
    "tags": []
   },
   "outputs": [],
   "source": [
    "df=pd.read_csv('https://github.com/Jan2309jr/Shopper-Spectrum/raw/refs/heads/main/online_retail.csv')"
   ]
  },
  {
   "cell_type": "markdown",
   "id": "8dd15f7e",
   "metadata": {
    "papermill": {
     "duration": 0.00368,
     "end_time": "2025-07-27T09:52:45.013437",
     "exception": false,
     "start_time": "2025-07-27T09:52:45.009757",
     "status": "completed"
    },
    "tags": []
   },
   "source": [
    "## 2. First View of dataset"
   ]
  },
  {
   "cell_type": "code",
   "execution_count": 3,
   "id": "057d4321",
   "metadata": {
    "execution": {
     "iopub.execute_input": "2025-07-27T09:52:45.022229Z",
     "iopub.status.busy": "2025-07-27T09:52:45.021904Z",
     "iopub.status.idle": "2025-07-27T09:52:45.048712Z",
     "shell.execute_reply": "2025-07-27T09:52:45.047919Z"
    },
    "papermill": {
     "duration": 0.033163,
     "end_time": "2025-07-27T09:52:45.050373",
     "exception": false,
     "start_time": "2025-07-27T09:52:45.017210",
     "status": "completed"
    },
    "tags": []
   },
   "outputs": [
    {
     "data": {
      "text/html": [
       "<div>\n",
       "<style scoped>\n",
       "    .dataframe tbody tr th:only-of-type {\n",
       "        vertical-align: middle;\n",
       "    }\n",
       "\n",
       "    .dataframe tbody tr th {\n",
       "        vertical-align: top;\n",
       "    }\n",
       "\n",
       "    .dataframe thead th {\n",
       "        text-align: right;\n",
       "    }\n",
       "</style>\n",
       "<table border=\"1\" class=\"dataframe\">\n",
       "  <thead>\n",
       "    <tr style=\"text-align: right;\">\n",
       "      <th></th>\n",
       "      <th>InvoiceNo</th>\n",
       "      <th>StockCode</th>\n",
       "      <th>Description</th>\n",
       "      <th>Quantity</th>\n",
       "      <th>InvoiceDate</th>\n",
       "      <th>UnitPrice</th>\n",
       "      <th>CustomerID</th>\n",
       "      <th>Country</th>\n",
       "    </tr>\n",
       "  </thead>\n",
       "  <tbody>\n",
       "    <tr>\n",
       "      <th>0</th>\n",
       "      <td>536365</td>\n",
       "      <td>85123A</td>\n",
       "      <td>WHITE HANGING HEART T-LIGHT HOLDER</td>\n",
       "      <td>6</td>\n",
       "      <td>2022-12-01 08:26:00</td>\n",
       "      <td>2.55</td>\n",
       "      <td>17850.0</td>\n",
       "      <td>United Kingdom</td>\n",
       "    </tr>\n",
       "    <tr>\n",
       "      <th>1</th>\n",
       "      <td>536365</td>\n",
       "      <td>71053</td>\n",
       "      <td>WHITE METAL LANTERN</td>\n",
       "      <td>6</td>\n",
       "      <td>2022-12-01 08:26:00</td>\n",
       "      <td>3.39</td>\n",
       "      <td>17850.0</td>\n",
       "      <td>United Kingdom</td>\n",
       "    </tr>\n",
       "    <tr>\n",
       "      <th>2</th>\n",
       "      <td>536365</td>\n",
       "      <td>84406B</td>\n",
       "      <td>CREAM CUPID HEARTS COAT HANGER</td>\n",
       "      <td>8</td>\n",
       "      <td>2022-12-01 08:26:00</td>\n",
       "      <td>2.75</td>\n",
       "      <td>17850.0</td>\n",
       "      <td>United Kingdom</td>\n",
       "    </tr>\n",
       "    <tr>\n",
       "      <th>3</th>\n",
       "      <td>536365</td>\n",
       "      <td>84029G</td>\n",
       "      <td>KNITTED UNION FLAG HOT WATER BOTTLE</td>\n",
       "      <td>6</td>\n",
       "      <td>2022-12-01 08:26:00</td>\n",
       "      <td>3.39</td>\n",
       "      <td>17850.0</td>\n",
       "      <td>United Kingdom</td>\n",
       "    </tr>\n",
       "    <tr>\n",
       "      <th>4</th>\n",
       "      <td>536365</td>\n",
       "      <td>84029E</td>\n",
       "      <td>RED WOOLLY HOTTIE WHITE HEART.</td>\n",
       "      <td>6</td>\n",
       "      <td>2022-12-01 08:26:00</td>\n",
       "      <td>3.39</td>\n",
       "      <td>17850.0</td>\n",
       "      <td>United Kingdom</td>\n",
       "    </tr>\n",
       "    <tr>\n",
       "      <th>5</th>\n",
       "      <td>536365</td>\n",
       "      <td>22752</td>\n",
       "      <td>SET 7 BABUSHKA NESTING BOXES</td>\n",
       "      <td>2</td>\n",
       "      <td>2022-12-01 08:26:00</td>\n",
       "      <td>7.65</td>\n",
       "      <td>17850.0</td>\n",
       "      <td>United Kingdom</td>\n",
       "    </tr>\n",
       "    <tr>\n",
       "      <th>6</th>\n",
       "      <td>536365</td>\n",
       "      <td>21730</td>\n",
       "      <td>GLASS STAR FROSTED T-LIGHT HOLDER</td>\n",
       "      <td>6</td>\n",
       "      <td>2022-12-01 08:26:00</td>\n",
       "      <td>4.25</td>\n",
       "      <td>17850.0</td>\n",
       "      <td>United Kingdom</td>\n",
       "    </tr>\n",
       "    <tr>\n",
       "      <th>7</th>\n",
       "      <td>536366</td>\n",
       "      <td>22633</td>\n",
       "      <td>HAND WARMER UNION JACK</td>\n",
       "      <td>6</td>\n",
       "      <td>2022-12-01 08:28:00</td>\n",
       "      <td>1.85</td>\n",
       "      <td>17850.0</td>\n",
       "      <td>United Kingdom</td>\n",
       "    </tr>\n",
       "    <tr>\n",
       "      <th>8</th>\n",
       "      <td>536366</td>\n",
       "      <td>22632</td>\n",
       "      <td>HAND WARMER RED POLKA DOT</td>\n",
       "      <td>6</td>\n",
       "      <td>2022-12-01 08:28:00</td>\n",
       "      <td>1.85</td>\n",
       "      <td>17850.0</td>\n",
       "      <td>United Kingdom</td>\n",
       "    </tr>\n",
       "    <tr>\n",
       "      <th>9</th>\n",
       "      <td>536367</td>\n",
       "      <td>84879</td>\n",
       "      <td>ASSORTED COLOUR BIRD ORNAMENT</td>\n",
       "      <td>32</td>\n",
       "      <td>2022-12-01 08:34:00</td>\n",
       "      <td>1.69</td>\n",
       "      <td>13047.0</td>\n",
       "      <td>United Kingdom</td>\n",
       "    </tr>\n",
       "  </tbody>\n",
       "</table>\n",
       "</div>"
      ],
      "text/plain": [
       "  InvoiceNo StockCode                          Description  Quantity  \\\n",
       "0    536365    85123A   WHITE HANGING HEART T-LIGHT HOLDER         6   \n",
       "1    536365     71053                  WHITE METAL LANTERN         6   \n",
       "2    536365    84406B       CREAM CUPID HEARTS COAT HANGER         8   \n",
       "3    536365    84029G  KNITTED UNION FLAG HOT WATER BOTTLE         6   \n",
       "4    536365    84029E       RED WOOLLY HOTTIE WHITE HEART.         6   \n",
       "5    536365     22752         SET 7 BABUSHKA NESTING BOXES         2   \n",
       "6    536365     21730    GLASS STAR FROSTED T-LIGHT HOLDER         6   \n",
       "7    536366     22633               HAND WARMER UNION JACK         6   \n",
       "8    536366     22632            HAND WARMER RED POLKA DOT         6   \n",
       "9    536367     84879        ASSORTED COLOUR BIRD ORNAMENT        32   \n",
       "\n",
       "           InvoiceDate  UnitPrice  CustomerID         Country  \n",
       "0  2022-12-01 08:26:00       2.55     17850.0  United Kingdom  \n",
       "1  2022-12-01 08:26:00       3.39     17850.0  United Kingdom  \n",
       "2  2022-12-01 08:26:00       2.75     17850.0  United Kingdom  \n",
       "3  2022-12-01 08:26:00       3.39     17850.0  United Kingdom  \n",
       "4  2022-12-01 08:26:00       3.39     17850.0  United Kingdom  \n",
       "5  2022-12-01 08:26:00       7.65     17850.0  United Kingdom  \n",
       "6  2022-12-01 08:26:00       4.25     17850.0  United Kingdom  \n",
       "7  2022-12-01 08:28:00       1.85     17850.0  United Kingdom  \n",
       "8  2022-12-01 08:28:00       1.85     17850.0  United Kingdom  \n",
       "9  2022-12-01 08:34:00       1.69     13047.0  United Kingdom  "
      ]
     },
     "execution_count": 3,
     "metadata": {},
     "output_type": "execute_result"
    }
   ],
   "source": [
    "df.head(10)"
   ]
  },
  {
   "cell_type": "markdown",
   "id": "a53379b8",
   "metadata": {
    "papermill": {
     "duration": 0.003808,
     "end_time": "2025-07-27T09:52:45.058400",
     "exception": false,
     "start_time": "2025-07-27T09:52:45.054592",
     "status": "completed"
    },
    "tags": []
   },
   "source": [
    "## 3. Dataset Rows and Columns Count "
   ]
  },
  {
   "cell_type": "code",
   "execution_count": 4,
   "id": "aaa023d1",
   "metadata": {
    "execution": {
     "iopub.execute_input": "2025-07-27T09:52:45.068984Z",
     "iopub.status.busy": "2025-07-27T09:52:45.067968Z",
     "iopub.status.idle": "2025-07-27T09:52:45.073424Z",
     "shell.execute_reply": "2025-07-27T09:52:45.072547Z"
    },
    "papermill": {
     "duration": 0.011717,
     "end_time": "2025-07-27T09:52:45.074904",
     "exception": false,
     "start_time": "2025-07-27T09:52:45.063187",
     "status": "completed"
    },
    "tags": []
   },
   "outputs": [
    {
     "name": "stdout",
     "output_type": "stream",
     "text": [
      "Rows: 541909\n",
      "cols 8\n"
     ]
    }
   ],
   "source": [
    "row,col=df.shape\n",
    "print(\"Rows:\",row)\n",
    "print(\"cols\",col)"
   ]
  },
  {
   "cell_type": "markdown",
   "id": "4c9f0e7f",
   "metadata": {
    "papermill": {
     "duration": 0.003917,
     "end_time": "2025-07-27T09:52:45.083114",
     "exception": false,
     "start_time": "2025-07-27T09:52:45.079197",
     "status": "completed"
    },
    "tags": []
   },
   "source": [
    "## 4. Dataset Information"
   ]
  },
  {
   "cell_type": "code",
   "execution_count": 5,
   "id": "2070a527",
   "metadata": {
    "execution": {
     "iopub.execute_input": "2025-07-27T09:52:45.092106Z",
     "iopub.status.busy": "2025-07-27T09:52:45.091769Z",
     "iopub.status.idle": "2025-07-27T09:52:45.250804Z",
     "shell.execute_reply": "2025-07-27T09:52:45.249769Z"
    },
    "papermill": {
     "duration": 0.165304,
     "end_time": "2025-07-27T09:52:45.252385",
     "exception": false,
     "start_time": "2025-07-27T09:52:45.087081",
     "status": "completed"
    },
    "tags": []
   },
   "outputs": [
    {
     "name": "stdout",
     "output_type": "stream",
     "text": [
      "<class 'pandas.core.frame.DataFrame'>\n",
      "RangeIndex: 541909 entries, 0 to 541908\n",
      "Data columns (total 8 columns):\n",
      " #   Column       Non-Null Count   Dtype  \n",
      "---  ------       --------------   -----  \n",
      " 0   InvoiceNo    541909 non-null  object \n",
      " 1   StockCode    541909 non-null  object \n",
      " 2   Description  540455 non-null  object \n",
      " 3   Quantity     541909 non-null  int64  \n",
      " 4   InvoiceDate  541909 non-null  object \n",
      " 5   UnitPrice    541909 non-null  float64\n",
      " 6   CustomerID   406829 non-null  float64\n",
      " 7   Country      541909 non-null  object \n",
      "dtypes: float64(2), int64(1), object(5)\n",
      "memory usage: 33.1+ MB\n"
     ]
    }
   ],
   "source": [
    "df.info()"
   ]
  },
  {
   "cell_type": "markdown",
   "id": "ba8ed9ec",
   "metadata": {
    "papermill": {
     "duration": 0.00402,
     "end_time": "2025-07-27T09:52:45.260734",
     "exception": false,
     "start_time": "2025-07-27T09:52:45.256714",
     "status": "completed"
    },
    "tags": []
   },
   "source": [
    "## 5. Columns Names"
   ]
  },
  {
   "cell_type": "code",
   "execution_count": 6,
   "id": "01389c98",
   "metadata": {
    "execution": {
     "iopub.execute_input": "2025-07-27T09:52:45.270504Z",
     "iopub.status.busy": "2025-07-27T09:52:45.269705Z",
     "iopub.status.idle": "2025-07-27T09:52:45.275249Z",
     "shell.execute_reply": "2025-07-27T09:52:45.274534Z"
    },
    "papermill": {
     "duration": 0.011637,
     "end_time": "2025-07-27T09:52:45.276460",
     "exception": false,
     "start_time": "2025-07-27T09:52:45.264823",
     "status": "completed"
    },
    "tags": []
   },
   "outputs": [
    {
     "data": {
      "text/plain": [
       "['InvoiceNo',\n",
       " 'StockCode',\n",
       " 'Description',\n",
       " 'Quantity',\n",
       " 'InvoiceDate',\n",
       " 'UnitPrice',\n",
       " 'CustomerID',\n",
       " 'Country']"
      ]
     },
     "execution_count": 6,
     "metadata": {},
     "output_type": "execute_result"
    }
   ],
   "source": [
    "df.columns.tolist()"
   ]
  },
  {
   "cell_type": "markdown",
   "id": "83f16c34",
   "metadata": {
    "papermill": {
     "duration": 0.003926,
     "end_time": "2025-07-27T09:52:45.284730",
     "exception": false,
     "start_time": "2025-07-27T09:52:45.280804",
     "status": "completed"
    },
    "tags": []
   },
   "source": [
    "## 6. Null/Missing values"
   ]
  },
  {
   "cell_type": "code",
   "execution_count": 7,
   "id": "eabd2f14",
   "metadata": {
    "execution": {
     "iopub.execute_input": "2025-07-27T09:52:45.294369Z",
     "iopub.status.busy": "2025-07-27T09:52:45.293590Z",
     "iopub.status.idle": "2025-07-27T09:52:45.438228Z",
     "shell.execute_reply": "2025-07-27T09:52:45.437158Z"
    },
    "papermill": {
     "duration": 0.150962,
     "end_time": "2025-07-27T09:52:45.439758",
     "exception": false,
     "start_time": "2025-07-27T09:52:45.288796",
     "status": "completed"
    },
    "tags": []
   },
   "outputs": [
    {
     "data": {
      "text/plain": [
       "InvoiceNo           0\n",
       "StockCode           0\n",
       "Description      1454\n",
       "Quantity            0\n",
       "InvoiceDate         0\n",
       "UnitPrice           0\n",
       "CustomerID     135080\n",
       "Country             0\n",
       "dtype: int64"
      ]
     },
     "execution_count": 7,
     "metadata": {},
     "output_type": "execute_result"
    }
   ],
   "source": [
    "df.isnull().sum()"
   ]
  },
  {
   "cell_type": "markdown",
   "id": "f4864f31",
   "metadata": {
    "papermill": {
     "duration": 0.004017,
     "end_time": "2025-07-27T09:52:45.448246",
     "exception": false,
     "start_time": "2025-07-27T09:52:45.444229",
     "status": "completed"
    },
    "tags": []
   },
   "source": [
    "## 5. Unique Values"
   ]
  },
  {
   "cell_type": "code",
   "execution_count": 8,
   "id": "d63034bc",
   "metadata": {
    "execution": {
     "iopub.execute_input": "2025-07-27T09:52:45.458039Z",
     "iopub.status.busy": "2025-07-27T09:52:45.457302Z",
     "iopub.status.idle": "2025-07-27T09:52:45.636941Z",
     "shell.execute_reply": "2025-07-27T09:52:45.636069Z"
    },
    "papermill": {
     "duration": 0.185923,
     "end_time": "2025-07-27T09:52:45.638330",
     "exception": false,
     "start_time": "2025-07-27T09:52:45.452407",
     "status": "completed"
    },
    "tags": []
   },
   "outputs": [
    {
     "data": {
      "text/plain": [
       "InvoiceNo      25900\n",
       "StockCode       4070\n",
       "Description     4223\n",
       "Quantity         722\n",
       "InvoiceDate    23260\n",
       "UnitPrice       1630\n",
       "CustomerID      4372\n",
       "Country           38\n",
       "dtype: int64"
      ]
     },
     "execution_count": 8,
     "metadata": {},
     "output_type": "execute_result"
    }
   ],
   "source": [
    "df.nunique()"
   ]
  },
  {
   "cell_type": "markdown",
   "id": "f687bcb4",
   "metadata": {
    "papermill": {
     "duration": 0.004349,
     "end_time": "2025-07-27T09:52:45.647073",
     "exception": false,
     "start_time": "2025-07-27T09:52:45.642724",
     "status": "completed"
    },
    "tags": []
   },
   "source": [
    "## 6. Dataset Description "
   ]
  },
  {
   "cell_type": "code",
   "execution_count": 9,
   "id": "9752141e",
   "metadata": {
    "execution": {
     "iopub.execute_input": "2025-07-27T09:52:45.657203Z",
     "iopub.status.busy": "2025-07-27T09:52:45.656573Z",
     "iopub.status.idle": "2025-07-27T09:52:45.735233Z",
     "shell.execute_reply": "2025-07-27T09:52:45.734409Z"
    },
    "papermill": {
     "duration": 0.085192,
     "end_time": "2025-07-27T09:52:45.736563",
     "exception": false,
     "start_time": "2025-07-27T09:52:45.651371",
     "status": "completed"
    },
    "tags": []
   },
   "outputs": [
    {
     "data": {
      "text/html": [
       "<div>\n",
       "<style scoped>\n",
       "    .dataframe tbody tr th:only-of-type {\n",
       "        vertical-align: middle;\n",
       "    }\n",
       "\n",
       "    .dataframe tbody tr th {\n",
       "        vertical-align: top;\n",
       "    }\n",
       "\n",
       "    .dataframe thead th {\n",
       "        text-align: right;\n",
       "    }\n",
       "</style>\n",
       "<table border=\"1\" class=\"dataframe\">\n",
       "  <thead>\n",
       "    <tr style=\"text-align: right;\">\n",
       "      <th></th>\n",
       "      <th>Quantity</th>\n",
       "      <th>UnitPrice</th>\n",
       "      <th>CustomerID</th>\n",
       "    </tr>\n",
       "  </thead>\n",
       "  <tbody>\n",
       "    <tr>\n",
       "      <th>count</th>\n",
       "      <td>541909.000000</td>\n",
       "      <td>541909.000000</td>\n",
       "      <td>406829.000000</td>\n",
       "    </tr>\n",
       "    <tr>\n",
       "      <th>mean</th>\n",
       "      <td>9.552250</td>\n",
       "      <td>4.611114</td>\n",
       "      <td>15287.690570</td>\n",
       "    </tr>\n",
       "    <tr>\n",
       "      <th>std</th>\n",
       "      <td>218.081158</td>\n",
       "      <td>96.759853</td>\n",
       "      <td>1713.600303</td>\n",
       "    </tr>\n",
       "    <tr>\n",
       "      <th>min</th>\n",
       "      <td>-80995.000000</td>\n",
       "      <td>-11062.060000</td>\n",
       "      <td>12346.000000</td>\n",
       "    </tr>\n",
       "    <tr>\n",
       "      <th>25%</th>\n",
       "      <td>1.000000</td>\n",
       "      <td>1.250000</td>\n",
       "      <td>13953.000000</td>\n",
       "    </tr>\n",
       "    <tr>\n",
       "      <th>50%</th>\n",
       "      <td>3.000000</td>\n",
       "      <td>2.080000</td>\n",
       "      <td>15152.000000</td>\n",
       "    </tr>\n",
       "    <tr>\n",
       "      <th>75%</th>\n",
       "      <td>10.000000</td>\n",
       "      <td>4.130000</td>\n",
       "      <td>16791.000000</td>\n",
       "    </tr>\n",
       "    <tr>\n",
       "      <th>max</th>\n",
       "      <td>80995.000000</td>\n",
       "      <td>38970.000000</td>\n",
       "      <td>18287.000000</td>\n",
       "    </tr>\n",
       "  </tbody>\n",
       "</table>\n",
       "</div>"
      ],
      "text/plain": [
       "            Quantity      UnitPrice     CustomerID\n",
       "count  541909.000000  541909.000000  406829.000000\n",
       "mean        9.552250       4.611114   15287.690570\n",
       "std       218.081158      96.759853    1713.600303\n",
       "min    -80995.000000  -11062.060000   12346.000000\n",
       "25%         1.000000       1.250000   13953.000000\n",
       "50%         3.000000       2.080000   15152.000000\n",
       "75%        10.000000       4.130000   16791.000000\n",
       "max     80995.000000   38970.000000   18287.000000"
      ]
     },
     "execution_count": 9,
     "metadata": {},
     "output_type": "execute_result"
    }
   ],
   "source": [
    "df.describe()"
   ]
  },
  {
   "cell_type": "markdown",
   "id": "a459d570",
   "metadata": {
    "papermill": {
     "duration": 0.004179,
     "end_time": "2025-07-27T09:52:45.745335",
     "exception": false,
     "start_time": "2025-07-27T09:52:45.741156",
     "status": "completed"
    },
    "tags": []
   },
   "source": [
    "## 7. Visualisation of Dataset"
   ]
  },
  {
   "cell_type": "markdown",
   "id": "b6f40adc",
   "metadata": {
    "papermill": {
     "duration": 0.003973,
     "end_time": "2025-07-27T09:52:45.753464",
     "exception": false,
     "start_time": "2025-07-27T09:52:45.749491",
     "status": "completed"
    },
    "tags": []
   },
   "source": [
    "### i. Missing Values in each Column"
   ]
  },
  {
   "cell_type": "code",
   "execution_count": 10,
   "id": "27befcea",
   "metadata": {
    "execution": {
     "iopub.execute_input": "2025-07-27T09:52:45.763422Z",
     "iopub.status.busy": "2025-07-27T09:52:45.762855Z",
     "iopub.status.idle": "2025-07-27T09:52:46.293350Z",
     "shell.execute_reply": "2025-07-27T09:52:46.292418Z"
    },
    "papermill": {
     "duration": 0.53733,
     "end_time": "2025-07-27T09:52:46.294965",
     "exception": false,
     "start_time": "2025-07-27T09:52:45.757635",
     "status": "completed"
    },
    "tags": []
   },
   "outputs": [
    {
     "data": {
      "image/png": "[encoded data removed]",
      "text/plain": [
       "<Figure size 1200x600 with 1 Axes>"
      ]
     },
     "metadata": {},
     "output_type": "display_data"
    }
   ],
   "source": [
    "columns=df.columns.tolist()\n",
    "nullValues=df.isnull().sum()\n",
    "plt.figure(figsize=(12,6))\n",
    "plt.bar(columns,nullValues,color=\"skyblue\")\n",
    "plt.title(\"Missing Value Count per Columns\")\n",
    "plt.xlabel('Columns')\n",
    "plt.ylabel('Count')\n",
    "plt.tight_layout()\n",
    "plt.show()"
   ]
  },
  {
   "cell_type": "markdown",
   "id": "e9c912e2",
   "metadata": {
    "papermill": {
     "duration": 0.004841,
     "end_time": "2025-07-27T09:52:46.305304",
     "exception": false,
     "start_time": "2025-07-27T09:52:46.300463",
     "status": "completed"
    },
    "tags": []
   },
   "source": [
    "### ii. Unique Values in each Column"
   ]
  },
  {
   "cell_type": "code",
   "execution_count": 11,
   "id": "5c81203c",
   "metadata": {
    "execution": {
     "iopub.execute_input": "2025-07-27T09:52:46.316618Z",
     "iopub.status.busy": "2025-07-27T09:52:46.316023Z",
     "iopub.status.idle": "2025-07-27T09:52:46.681405Z",
     "shell.execute_reply": "2025-07-27T09:52:46.680478Z"
    },
    "papermill": {
     "duration": 0.372815,
     "end_time": "2025-07-27T09:52:46.682982",
     "exception": false,
     "start_time": "2025-07-27T09:52:46.310167",
     "status": "completed"
    },
    "tags": []
   },
   "outputs": [
    {
     "data": {
      "image/png": "[encoded data removed]",
      "text/plain": [
       "<Figure size 1200x600 with 1 Axes>"
      ]
     },
     "metadata": {},
     "output_type": "display_data"
    }
   ],
   "source": [
    "uniqueValues= df.nunique()\n",
    "plt.figure(figsize=(12,6))\n",
    "plt.bar(columns,uniqueValues,color='plum')\n",
    "plt.title(\"Unique Values per Column\")\n",
    "plt.xlabel('Columns')\n",
    "plt.ylabel('Count')\n",
    "plt.tight_layout()\n",
    "plt.show()"
   ]
  },
  {
   "cell_type": "markdown",
   "id": "a654ebc3",
   "metadata": {
    "papermill": {
     "duration": 0.005335,
     "end_time": "2025-07-27T09:52:46.694296",
     "exception": false,
     "start_time": "2025-07-27T09:52:46.688961",
     "status": "completed"
    },
    "tags": []
   },
   "source": [
    "# **Data Wrangling**"
   ]
  },
  {
   "cell_type": "code",
   "execution_count": null,
   "id": "225347e1",
   "metadata": {
    "papermill": {
     "duration": 0.005472,
     "end_time": "2025-07-27T09:52:46.705441",
     "exception": false,
     "start_time": "2025-07-27T09:52:46.699969",
     "status": "completed"
    },
    "tags": []
   },
   "outputs": [],
   "source": []
  }
 ],
 "metadata": {
  "kaggle": {
   "accelerator": "none",
   "dataSources": [],
   "dockerImageVersionId": 31089,
   "isGpuEnabled": false,
   "isInternetEnabled": true,
   "language": "python",
   "sourceType": "notebook"
  },
  "kernelspec": {
   "display_name": "Python 3",
   "language": "python",
   "name": "python3"
  },
  "language_info": {
   "codemirror_mode": {
    "name": "ipython",
    "version": 3
   },
   "file_extension": ".py",
   "mimetype": "text/x-python",
   "name": "python",
   "nbconvert_exporter": "python",
   "pygments_lexer": "ipython3",
   "version": "3.11.13"
  },
  "papermill": {
   "default_parameters": {},
   "duration": 12.935459,
   "end_time": "2025-07-27T09:52:47.431981",
   "environment_variables": {},
   "exception": null,
   "input_path": "__notebook__.ipynb",
   "output_path": "__notebook__.ipynb",
   "parameters": {},
   "start_time": "2025-07-27T09:52:34.496522",
   "version": "2.6.0"
  }
 },
 "nbformat": 4,
 "nbformat_minor": 5
}
